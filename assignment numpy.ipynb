{
 "cells": [
  {
   "cell_type": "code",
   "execution_count": null,
   "id": "b60fc4fe",
   "metadata": {},
   "outputs": [],
   "source": [
    "import numpy as np"
   ]
  },
  {
   "cell_type": "code",
   "execution_count": null,
   "id": "902d6f3b",
   "metadata": {},
   "outputs": [],
   "source": [
    "1. Create a null vector of size 10 but the fifth value which is 1."
   ]
  },
  {
   "cell_type": "code",
   "execution_count": 4,
   "id": "1694a4ca",
   "metadata": {},
   "outputs": [
    {
     "name": "stdout",
     "output_type": "stream",
     "text": [
      "[0. 0. 0. 0. 1. 0. 0. 0. 0. 0.]\n"
     ]
    }
   ],
   "source": [
    "import numpy as np\n",
    "z = np.zeros(10)\n",
    "z[4] = 1\n",
    "print(z)"
   ]
  },
  {
   "cell_type": "code",
   "execution_count": null,
   "id": "b2234fe4",
   "metadata": {},
   "outputs": [],
   "source": [
    "2. Create a vector with values ranging from 10 to 49."
   ]
  },
  {
   "cell_type": "code",
   "execution_count": 2,
   "id": "8e815d84",
   "metadata": {},
   "outputs": [
    {
     "name": "stdout",
     "output_type": "stream",
     "text": [
      "[10 11 12 13 14 15 16 17 18 19 20 21 22 23 24 25 26 27 28 29 30 31 32 33\n",
      " 34 35 36 37 38 39 40 41 42 43 44 45 46 47 48 49]\n"
     ]
    }
   ],
   "source": [
    "import numpy as np\n",
    "z = np.arange(10,50)\n",
    "print(z)"
   ]
  },
  {
   "cell_type": "code",
   "execution_count": null,
   "id": "cdcd41b9",
   "metadata": {},
   "outputs": [],
   "source": [
    "3. Create a 3x3 matrix with values ranging from 0 to 8"
   ]
  },
  {
   "cell_type": "code",
   "execution_count": 3,
   "id": "54247917",
   "metadata": {},
   "outputs": [
    {
     "name": "stdout",
     "output_type": "stream",
     "text": [
      "[[0 1 2]\n",
      " [3 4 5]\n",
      " [6 7 8]]\n"
     ]
    }
   ],
   "source": [
    "import numpy as np\n",
    "z = np.arange(9).reshape(3,3)\n",
    "print(z)"
   ]
  },
  {
   "cell_type": "code",
   "execution_count": null,
   "id": "4cd2250d",
   "metadata": {},
   "outputs": [],
   "source": [
    "4. Find indices of non-zero elements from [1,2,0,0,4,0]"
   ]
  },
  {
   "cell_type": "code",
   "execution_count": 4,
   "id": "7a6d665e",
   "metadata": {},
   "outputs": [
    {
     "name": "stdout",
     "output_type": "stream",
     "text": [
      "[0, 1, 4]\n"
     ]
    }
   ],
   "source": [
    "import numpy as np\n",
    "l = [1,2,0,0,4,0]\n",
    "z = np.array(l)\n",
    "l_new = list(np.nonzero(z)[0])\n",
    "print(l_new)"
   ]
  },
  {
   "cell_type": "code",
   "execution_count": null,
   "id": "3359dd1c",
   "metadata": {},
   "outputs": [],
   "source": [
    "5. Create a 10x10 array with random values and find the minimum and maximum values."
   ]
  },
  {
   "cell_type": "code",
   "execution_count": 5,
   "id": "92b5551e",
   "metadata": {},
   "outputs": [
    {
     "name": "stdout",
     "output_type": "stream",
     "text": [
      "[[0.13098752 0.0729095  0.41642737 0.72984958 0.82003508 0.32760482\n",
      "  0.87241271 0.95071817 0.49023164 0.2242526 ]\n",
      " [0.30090328 0.85339407 0.24199227 0.16321257 0.46315946 0.21257122\n",
      "  0.89915156 0.491866   0.78673407 0.72079526]\n",
      " [0.70295427 0.90039101 0.00886281 0.9953522  0.75968148 0.95019535\n",
      "  0.59611821 0.31791036 0.55063086 0.88560854]\n",
      " [0.26016618 0.0900707  0.90690813 0.48701155 0.12264567 0.97884267\n",
      "  0.12046588 0.57639499 0.52735918 0.0343537 ]\n",
      " [0.84924563 0.24255093 0.59578413 0.96059536 0.73184801 0.67223977\n",
      "  0.27991806 0.61489927 0.21006633 0.89015829]\n",
      " [0.4993416  0.92808255 0.83696035 0.26308252 0.45209387 0.4785826\n",
      "  0.73859744 0.76175627 0.12038088 0.28340132]\n",
      " [0.47707564 0.15469069 0.50081424 0.01362674 0.72661589 0.06104885\n",
      "  0.43396826 0.1608276  0.91860613 0.59340772]\n",
      " [0.38067558 0.06054417 0.69972361 0.92400126 0.62229442 0.80369722\n",
      "  0.76300414 0.95200044 0.71097159 0.26504675]\n",
      " [0.9290997  0.9370034  0.16590152 0.56062273 0.71317401 0.27635637\n",
      "  0.64801674 0.29075032 0.84639768 0.87664883]\n",
      " [0.85523192 0.38597786 0.53520175 0.71956879 0.50527587 0.69227398\n",
      "  0.27349042 0.52411878 0.61331214 0.80862823]]\n",
      "minimum and maximum values:\n",
      "0.008862810245963137 0.9953522030207935\n"
     ]
    }
   ],
   "source": [
    "import numpy as np \n",
    "z = np.random.random((10,10))\n",
    "print(z)\n",
    "zmin,zmax = z.min(),z.max()\n",
    "print(\"minimum and maximum values:\")\n",
    "print(zmin,zmax)"
   ]
  },
  {
   "cell_type": "code",
   "execution_count": null,
   "id": "1b478aab",
   "metadata": {},
   "outputs": [],
   "source": [
    "6. Create a random vector of size 30 and find the mean value."
   ]
  },
  {
   "cell_type": "code",
   "execution_count": 7,
   "id": "7d25ee16",
   "metadata": {},
   "outputs": [
    {
     "name": "stdout",
     "output_type": "stream",
     "text": [
      "0.5004298550133207\n"
     ]
    }
   ],
   "source": [
    "z = np.random.random(30)\n",
    "m =z.mean()\n",
    "print(m)"
   ]
  },
  {
   "cell_type": "code",
   "execution_count": null,
   "id": "eb07ad8e",
   "metadata": {},
   "outputs": [],
   "source": []
  },
  {
   "cell_type": "code",
   "execution_count": null,
   "id": "88e08668",
   "metadata": {},
   "outputs": [],
   "source": []
  },
  {
   "cell_type": "code",
   "execution_count": null,
   "id": "1600edde",
   "metadata": {},
   "outputs": [],
   "source": []
  },
  {
   "cell_type": "code",
   "execution_count": null,
   "id": "577f3d43",
   "metadata": {},
   "outputs": [],
   "source": []
  }
 ],
 "metadata": {
  "kernelspec": {
   "display_name": "Python 3 (ipykernel)",
   "language": "python",
   "name": "python3"
  },
  "language_info": {
   "codemirror_mode": {
    "name": "ipython",
    "version": 3
   },
   "file_extension": ".py",
   "mimetype": "text/x-python",
   "name": "python",
   "nbconvert_exporter": "python",
   "pygments_lexer": "ipython3",
   "version": "3.10.9"
  }
 },
 "nbformat": 4,
 "nbformat_minor": 5
}
